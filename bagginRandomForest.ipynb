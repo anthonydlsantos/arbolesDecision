{
 "cells": [
  {
   "cell_type": "markdown",
   "id": "approximate-shadow",
   "metadata": {
    "slideshow": {
     "slide_type": "slide"
    }
   },
   "source": [
    "\n",
    "<h1 style=\"color:green; text-align:center;margin-top:5%\">\n",
    "    Baggin & Random forest \n",
    "</h1>\n",
    "\n",
    "---\n",
    "\n",
    "<p style=\"text-align:center; font-size:17px\">\n",
    "    Anthony de los Santos\n",
    "</p>"
   ]
  },
  {
   "cell_type": "markdown",
   "id": "featured-cleanup",
   "metadata": {
    "slideshow": {
     "slide_type": "subslide"
    }
   },
   "source": [
    "\n",
    "<h2 style=\"padding:2%;margin-left:2%; font-size:20px\"> \n",
    "    <b style=\"color:green\">+</b> Baggin, Boostrap agregation.\n",
    "</h2>\n",
    " \n",
    " "
   ]
  },
  {
   "cell_type": "code",
   "execution_count": 1,
   "id": "proud-valve",
   "metadata": {
    "slideshow": {
     "slide_type": "skip"
    }
   },
   "outputs": [],
   "source": [
    "# import de paquetes \n",
    "\n",
    "import pandas as pd\n",
    "import numpy as np\n",
    "import matplotlib.pyplot as plt\n",
    "\n",
    "# paquete para trabajar con árboles de decisión \n",
    "\n",
    "from sklearn import tree\n",
    "\n",
    "# Para dividir nuestro dataset en Train_set, test_set. \n",
    "\n",
    "from sklearn.model_selection import train_test_split\n"
   ]
  },
  {
   "cell_type": "markdown",
   "id": "experienced-fusion",
   "metadata": {
    "slideshow": {
     "slide_type": "fragment"
    }
   },
   "source": [
    "### Baggin aplicado en \"Hitters.csv\" \n",
    "\n"
   ]
  },
  {
   "cell_type": "code",
   "execution_count": 2,
   "id": "221d2498",
   "metadata": {},
   "outputs": [
    {
     "data": {
      "text/html": [
       "<div>\n",
       "<style scoped>\n",
       "    .dataframe tbody tr th:only-of-type {\n",
       "        vertical-align: middle;\n",
       "    }\n",
       "\n",
       "    .dataframe tbody tr th {\n",
       "        vertical-align: top;\n",
       "    }\n",
       "\n",
       "    .dataframe thead th {\n",
       "        text-align: right;\n",
       "    }\n",
       "</style>\n",
       "<table border=\"1\" class=\"dataframe\">\n",
       "  <thead>\n",
       "    <tr style=\"text-align: right;\">\n",
       "      <th></th>\n",
       "      <th>AtBat</th>\n",
       "      <th>Hits</th>\n",
       "      <th>HmRun</th>\n",
       "      <th>Runs</th>\n",
       "      <th>RBI</th>\n",
       "      <th>Walks</th>\n",
       "      <th>Years</th>\n",
       "      <th>CAtBat</th>\n",
       "      <th>CHits</th>\n",
       "      <th>CHmRun</th>\n",
       "      <th>CRuns</th>\n",
       "      <th>CRBI</th>\n",
       "      <th>CWalks</th>\n",
       "      <th>League</th>\n",
       "      <th>Division</th>\n",
       "      <th>PutOuts</th>\n",
       "      <th>Assists</th>\n",
       "      <th>Errors</th>\n",
       "      <th>Salary</th>\n",
       "      <th>NewLeague</th>\n",
       "    </tr>\n",
       "  </thead>\n",
       "  <tbody>\n",
       "    <tr>\n",
       "      <th>0</th>\n",
       "      <td>293</td>\n",
       "      <td>66</td>\n",
       "      <td>1</td>\n",
       "      <td>30</td>\n",
       "      <td>29</td>\n",
       "      <td>14</td>\n",
       "      <td>1</td>\n",
       "      <td>293</td>\n",
       "      <td>66</td>\n",
       "      <td>1</td>\n",
       "      <td>30</td>\n",
       "      <td>29</td>\n",
       "      <td>14</td>\n",
       "      <td>A</td>\n",
       "      <td>E</td>\n",
       "      <td>446</td>\n",
       "      <td>33</td>\n",
       "      <td>20</td>\n",
       "      <td>NaN</td>\n",
       "      <td>A</td>\n",
       "    </tr>\n",
       "    <tr>\n",
       "      <th>1</th>\n",
       "      <td>315</td>\n",
       "      <td>81</td>\n",
       "      <td>7</td>\n",
       "      <td>24</td>\n",
       "      <td>38</td>\n",
       "      <td>39</td>\n",
       "      <td>14</td>\n",
       "      <td>3449</td>\n",
       "      <td>835</td>\n",
       "      <td>69</td>\n",
       "      <td>321</td>\n",
       "      <td>414</td>\n",
       "      <td>375</td>\n",
       "      <td>N</td>\n",
       "      <td>W</td>\n",
       "      <td>632</td>\n",
       "      <td>43</td>\n",
       "      <td>10</td>\n",
       "      <td>475.0</td>\n",
       "      <td>N</td>\n",
       "    </tr>\n",
       "    <tr>\n",
       "      <th>2</th>\n",
       "      <td>479</td>\n",
       "      <td>130</td>\n",
       "      <td>18</td>\n",
       "      <td>66</td>\n",
       "      <td>72</td>\n",
       "      <td>76</td>\n",
       "      <td>3</td>\n",
       "      <td>1624</td>\n",
       "      <td>457</td>\n",
       "      <td>63</td>\n",
       "      <td>224</td>\n",
       "      <td>266</td>\n",
       "      <td>263</td>\n",
       "      <td>A</td>\n",
       "      <td>W</td>\n",
       "      <td>880</td>\n",
       "      <td>82</td>\n",
       "      <td>14</td>\n",
       "      <td>480.0</td>\n",
       "      <td>A</td>\n",
       "    </tr>\n",
       "    <tr>\n",
       "      <th>3</th>\n",
       "      <td>496</td>\n",
       "      <td>141</td>\n",
       "      <td>20</td>\n",
       "      <td>65</td>\n",
       "      <td>78</td>\n",
       "      <td>37</td>\n",
       "      <td>11</td>\n",
       "      <td>5628</td>\n",
       "      <td>1575</td>\n",
       "      <td>225</td>\n",
       "      <td>828</td>\n",
       "      <td>838</td>\n",
       "      <td>354</td>\n",
       "      <td>N</td>\n",
       "      <td>E</td>\n",
       "      <td>200</td>\n",
       "      <td>11</td>\n",
       "      <td>3</td>\n",
       "      <td>500.0</td>\n",
       "      <td>N</td>\n",
       "    </tr>\n",
       "    <tr>\n",
       "      <th>4</th>\n",
       "      <td>321</td>\n",
       "      <td>87</td>\n",
       "      <td>10</td>\n",
       "      <td>39</td>\n",
       "      <td>42</td>\n",
       "      <td>30</td>\n",
       "      <td>2</td>\n",
       "      <td>396</td>\n",
       "      <td>101</td>\n",
       "      <td>12</td>\n",
       "      <td>48</td>\n",
       "      <td>46</td>\n",
       "      <td>33</td>\n",
       "      <td>N</td>\n",
       "      <td>E</td>\n",
       "      <td>805</td>\n",
       "      <td>40</td>\n",
       "      <td>4</td>\n",
       "      <td>91.5</td>\n",
       "      <td>N</td>\n",
       "    </tr>\n",
       "  </tbody>\n",
       "</table>\n",
       "</div>"
      ],
      "text/plain": [
       "   AtBat  Hits  HmRun  Runs  RBI  Walks  Years  CAtBat  CHits  CHmRun  CRuns  \\\n",
       "0    293    66      1    30   29     14      1     293     66       1     30   \n",
       "1    315    81      7    24   38     39     14    3449    835      69    321   \n",
       "2    479   130     18    66   72     76      3    1624    457      63    224   \n",
       "3    496   141     20    65   78     37     11    5628   1575     225    828   \n",
       "4    321    87     10    39   42     30      2     396    101      12     48   \n",
       "\n",
       "   CRBI  CWalks League Division  PutOuts  Assists  Errors  Salary NewLeague  \n",
       "0    29      14      A        E      446       33      20     NaN         A  \n",
       "1   414     375      N        W      632       43      10   475.0         N  \n",
       "2   266     263      A        W      880       82      14   480.0         A  \n",
       "3   838     354      N        E      200       11       3   500.0         N  \n",
       "4    46      33      N        E      805       40       4    91.5         N  "
      ]
     },
     "execution_count": 2,
     "metadata": {},
     "output_type": "execute_result"
    }
   ],
   "source": [
    "# Cargamos el dataset \n",
    "\n",
    "hitters = pd.read_csv(\"Hitters.csv\")\n",
    "\n",
    "hitters.head()\n",
    "\n"
   ]
  },
  {
   "cell_type": "code",
   "execution_count": 3,
   "id": "9696bc97",
   "metadata": {},
   "outputs": [
    {
     "data": {
      "text/html": [
       "<div>\n",
       "<style scoped>\n",
       "    .dataframe tbody tr th:only-of-type {\n",
       "        vertical-align: middle;\n",
       "    }\n",
       "\n",
       "    .dataframe tbody tr th {\n",
       "        vertical-align: top;\n",
       "    }\n",
       "\n",
       "    .dataframe thead th {\n",
       "        text-align: right;\n",
       "    }\n",
       "</style>\n",
       "<table border=\"1\" class=\"dataframe\">\n",
       "  <thead>\n",
       "    <tr style=\"text-align: right;\">\n",
       "      <th></th>\n",
       "      <th>AtBat</th>\n",
       "      <th>Hits</th>\n",
       "      <th>HmRun</th>\n",
       "      <th>Runs</th>\n",
       "      <th>RBI</th>\n",
       "      <th>Walks</th>\n",
       "      <th>Years</th>\n",
       "      <th>CAtBat</th>\n",
       "      <th>CHits</th>\n",
       "      <th>CHmRun</th>\n",
       "      <th>...</th>\n",
       "      <th>CRBI</th>\n",
       "      <th>CWalks</th>\n",
       "      <th>League</th>\n",
       "      <th>Division</th>\n",
       "      <th>PutOuts</th>\n",
       "      <th>Assists</th>\n",
       "      <th>Errors</th>\n",
       "      <th>Salary</th>\n",
       "      <th>NewLeague</th>\n",
       "      <th>logSalary</th>\n",
       "    </tr>\n",
       "  </thead>\n",
       "  <tbody>\n",
       "    <tr>\n",
       "      <th>1</th>\n",
       "      <td>315</td>\n",
       "      <td>81</td>\n",
       "      <td>7</td>\n",
       "      <td>24</td>\n",
       "      <td>38</td>\n",
       "      <td>39</td>\n",
       "      <td>14</td>\n",
       "      <td>3449</td>\n",
       "      <td>835</td>\n",
       "      <td>69</td>\n",
       "      <td>...</td>\n",
       "      <td>414</td>\n",
       "      <td>375</td>\n",
       "      <td>N</td>\n",
       "      <td>W</td>\n",
       "      <td>632</td>\n",
       "      <td>43</td>\n",
       "      <td>10</td>\n",
       "      <td>475.0</td>\n",
       "      <td>N</td>\n",
       "      <td>6.163315</td>\n",
       "    </tr>\n",
       "    <tr>\n",
       "      <th>2</th>\n",
       "      <td>479</td>\n",
       "      <td>130</td>\n",
       "      <td>18</td>\n",
       "      <td>66</td>\n",
       "      <td>72</td>\n",
       "      <td>76</td>\n",
       "      <td>3</td>\n",
       "      <td>1624</td>\n",
       "      <td>457</td>\n",
       "      <td>63</td>\n",
       "      <td>...</td>\n",
       "      <td>266</td>\n",
       "      <td>263</td>\n",
       "      <td>A</td>\n",
       "      <td>W</td>\n",
       "      <td>880</td>\n",
       "      <td>82</td>\n",
       "      <td>14</td>\n",
       "      <td>480.0</td>\n",
       "      <td>A</td>\n",
       "      <td>6.173786</td>\n",
       "    </tr>\n",
       "    <tr>\n",
       "      <th>3</th>\n",
       "      <td>496</td>\n",
       "      <td>141</td>\n",
       "      <td>20</td>\n",
       "      <td>65</td>\n",
       "      <td>78</td>\n",
       "      <td>37</td>\n",
       "      <td>11</td>\n",
       "      <td>5628</td>\n",
       "      <td>1575</td>\n",
       "      <td>225</td>\n",
       "      <td>...</td>\n",
       "      <td>838</td>\n",
       "      <td>354</td>\n",
       "      <td>N</td>\n",
       "      <td>E</td>\n",
       "      <td>200</td>\n",
       "      <td>11</td>\n",
       "      <td>3</td>\n",
       "      <td>500.0</td>\n",
       "      <td>N</td>\n",
       "      <td>6.214608</td>\n",
       "    </tr>\n",
       "    <tr>\n",
       "      <th>4</th>\n",
       "      <td>321</td>\n",
       "      <td>87</td>\n",
       "      <td>10</td>\n",
       "      <td>39</td>\n",
       "      <td>42</td>\n",
       "      <td>30</td>\n",
       "      <td>2</td>\n",
       "      <td>396</td>\n",
       "      <td>101</td>\n",
       "      <td>12</td>\n",
       "      <td>...</td>\n",
       "      <td>46</td>\n",
       "      <td>33</td>\n",
       "      <td>N</td>\n",
       "      <td>E</td>\n",
       "      <td>805</td>\n",
       "      <td>40</td>\n",
       "      <td>4</td>\n",
       "      <td>91.5</td>\n",
       "      <td>N</td>\n",
       "      <td>4.516339</td>\n",
       "    </tr>\n",
       "    <tr>\n",
       "      <th>5</th>\n",
       "      <td>594</td>\n",
       "      <td>169</td>\n",
       "      <td>4</td>\n",
       "      <td>74</td>\n",
       "      <td>51</td>\n",
       "      <td>35</td>\n",
       "      <td>11</td>\n",
       "      <td>4408</td>\n",
       "      <td>1133</td>\n",
       "      <td>19</td>\n",
       "      <td>...</td>\n",
       "      <td>336</td>\n",
       "      <td>194</td>\n",
       "      <td>A</td>\n",
       "      <td>W</td>\n",
       "      <td>282</td>\n",
       "      <td>421</td>\n",
       "      <td>25</td>\n",
       "      <td>750.0</td>\n",
       "      <td>A</td>\n",
       "      <td>6.620073</td>\n",
       "    </tr>\n",
       "  </tbody>\n",
       "</table>\n",
       "<p>5 rows × 21 columns</p>\n",
       "</div>"
      ],
      "text/plain": [
       "   AtBat  Hits  HmRun  Runs  RBI  Walks  Years  CAtBat  CHits  CHmRun  ...  \\\n",
       "1    315    81      7    24   38     39     14    3449    835      69  ...   \n",
       "2    479   130     18    66   72     76      3    1624    457      63  ...   \n",
       "3    496   141     20    65   78     37     11    5628   1575     225  ...   \n",
       "4    321    87     10    39   42     30      2     396    101      12  ...   \n",
       "5    594   169      4    74   51     35     11    4408   1133      19  ...   \n",
       "\n",
       "   CRBI  CWalks  League Division PutOuts  Assists  Errors  Salary  NewLeague  \\\n",
       "1   414     375       N        W     632       43      10   475.0          N   \n",
       "2   266     263       A        W     880       82      14   480.0          A   \n",
       "3   838     354       N        E     200       11       3   500.0          N   \n",
       "4    46      33       N        E     805       40       4    91.5          N   \n",
       "5   336     194       A        W     282      421      25   750.0          A   \n",
       "\n",
       "  logSalary  \n",
       "1  6.163315  \n",
       "2  6.173786  \n",
       "3  6.214608  \n",
       "4  4.516339  \n",
       "5  6.620073  \n",
       "\n",
       "[5 rows x 21 columns]"
      ]
     },
     "execution_count": 3,
     "metadata": {},
     "output_type": "execute_result"
    }
   ],
   "source": [
    "#\n",
    "# Habrá que filtrar los datos faltantes en \"Salary\" y después de eso, aplicar log()\n",
    "#\n",
    "\n",
    "# Se filtran los datos \"Nan\"\n",
    "hitters = hitters.dropna()  \n",
    "\n",
    "# Se agrega una columna a nuestro dataSet, \"logSalary\", que resulta de aplicar log( \"Salary\" )\n",
    "logSalary = pd.DataFrame({\"logSalary\" : hitters[\"Salary\"].transform( np.log )})\n",
    "hitters = hitters.join( logSalary )\n",
    "\n",
    "hitters.head()\n",
    "\n"
   ]
  },
  {
   "cell_type": "code",
   "execution_count": 4,
   "id": "de4fab61",
   "metadata": {},
   "outputs": [],
   "source": [
    "#\n",
    "#     Train test split \n",
    "#\n",
    "\n",
    "X = pd.DataFrame({ \"Puntos\": hitters[\"Hits\"], \"Años\": hitters[\"Years\"] })\n",
    "y = hitters[\"logSalary\"] \n",
    "\n",
    "X_train, X_test, y_train, y_test = train_test_split(X, y, test_size=0.30, random_state = 1)\n",
    "\n",
    " "
   ]
  },
  {
   "cell_type": "code",
   "execution_count": 5,
   "id": "4d0983f0",
   "metadata": {},
   "outputs": [
    {
     "data": {
      "text/plain": [
       "[Text(167.4, 181.2, 'X[1] <= 4.5\\nmse = 0.788\\nsamples = 263\\nvalue = 5.927'),\n",
       " Text(83.7, 108.72, 'X[0] <= 15.5\\nmse = 0.471\\nsamples = 90\\nvalue = 5.107'),\n",
       " Text(41.85, 36.23999999999998, 'mse = 0.176\\nsamples = 2\\nvalue = 7.243'),\n",
       " Text(125.55000000000001, 36.23999999999998, 'mse = 0.371\\nsamples = 88\\nvalue = 5.058'),\n",
       " Text(251.10000000000002, 108.72, 'X[0] <= 117.5\\nmse = 0.42\\nsamples = 173\\nvalue = 6.354'),\n",
       " Text(209.25, 36.23999999999998, 'mse = 0.312\\nsamples = 90\\nvalue = 5.998'),\n",
       " Text(292.95, 36.23999999999998, 'mse = 0.252\\nsamples = 83\\nvalue = 6.74')]"
      ]
     },
     "execution_count": 5,
     "metadata": {},
     "output_type": "execute_result"
    },
    {
     "data": {
      "image/png": "[encoded data removed]",
      "text/plain": [
       "<Figure size 432x288 with 1 Axes>"
      ]
     },
     "metadata": {
      "needs_background": "light"
     },
     "output_type": "display_data"
    }
   ],
   "source": [
    "#\n",
    "# Árbol de regresión en hitters...\n",
    "#\n",
    "\n",
    "ar = tree.DecisionTreeRegressor(max_depth = 2)  \n",
    "\n",
    "# Aplicamos el método en X_train, y_train\n",
    "ar.fit(X,y)\n",
    "\n",
    "# Predicción aplicado en X_test.\n",
    "prediccion = ar.predict(X_test)\n",
    "\n",
    "tree.plot_tree(ar)\n"
   ]
  },
  {
   "cell_type": "markdown",
   "id": "desperate-carry",
   "metadata": {},
   "source": [
    "Similar a la figura 8.1 en el capitulo 8."
   ]
  },
  {
   "cell_type": "markdown",
   "id": "analyzed-sunrise",
   "metadata": {},
   "source": [
    " "
   ]
  },
  {
   "cell_type": "markdown",
   "id": "romance-gathering",
   "metadata": {},
   "source": [
    "\n",
    "- A continuación un *intento* de mostrar la varianza en el método al \"variar\" el train_set. \n",
    "Esto estará a discusión. La alta varianza en los métodos de árboles, al \"modificar\" el train_set la predicción puede ser distinta. \n"
   ]
  },
  {
   "cell_type": "markdown",
   "id": "central-compatibility",
   "metadata": {},
   "source": [
    " \n"
   ]
  },
  {
   "cell_type": "code",
   "execution_count": 6,
   "id": "ecfb8e0c",
   "metadata": {},
   "outputs": [
    {
     "name": "stdout",
     "output_type": "stream",
     "text": [
      " Primeras 4 predicciones en X_test ... \n",
      "[5.92774578 5.92774578 6.6466946  6.6466946 ]  Utilizando X2_train como train_set \n",
      "[5.99837985 5.99837985 6.73968692 5.05822803]  El ejemplo inicial, X_train como train_set \n"
     ]
    },
    {
     "data": {
      "image/png": "[encoded data removed]",
      "text/plain": [
       "<Figure size 432x288 with 1 Axes>"
      ]
     },
     "metadata": {
      "needs_background": "light"
     },
     "output_type": "display_data"
    }
   ],
   "source": [
    "X2_train, X2_test, y2_train, y2_test = train_test_split(X_train, y_train, test_size=0.30)\n",
    "\n",
    "\n",
    "ar2 = tree.DecisionTreeRegressor(max_depth = 2)  \n",
    "\n",
    "# Aplicamos el método en X2_train, y2_train\n",
    "ar2.fit(X2_train,y2_train)\n",
    "\n",
    "# Predicción aplicado en X_test.\n",
    "prediccion2 = ar2.predict(X_test)\n",
    "\n",
    "tree.plot_tree(ar2)\n",
    "\n",
    "print(\" Primeras 4 predicciones en X_test ... \")\n",
    "print(prediccion2[:4],\" Utilizando X2_train como train_set \")\n",
    "print(prediccion[:4],\" El ejemplo inicial, X_train como train_set \")\n"
   ]
  },
  {
   "cell_type": "markdown",
   "id": "portable-freeze",
   "metadata": {},
   "source": [
    " "
   ]
  },
  {
   "cell_type": "markdown",
   "id": "sweet-charity",
   "metadata": {},
   "source": [
    "### + Aplicando Bagging "
   ]
  },
  {
   "cell_type": "code",
   "execution_count": 7,
   "id": "referenced-infection",
   "metadata": {},
   "outputs": [
    {
     "data": {
      "text/plain": [
       "0.3026418289760601"
      ]
     },
     "execution_count": 7,
     "metadata": {},
     "output_type": "execute_result"
    }
   ],
   "source": [
    "# Métricas, MSE.\n",
    "\n",
    "from sklearn.metrics import mean_squared_error\n",
    "\n",
    "# MSE  en árbol de regresión \n",
    "error_ar = mean_squared_error( y_test, prediccion )\n",
    "\n",
    "error_ar\n"
   ]
  },
  {
   "cell_type": "code",
   "execution_count": 8,
   "id": "several-voice",
   "metadata": {},
   "outputs": [
    {
     "name": "stdout",
     "output_type": "stream",
     "text": [
      "Primeras 4 predicciones:  [5.92894391 5.65630781 6.96452978 6.53771375]\n"
     ]
    }
   ],
   "source": [
    "#\n",
    "# Importamos los paquetes para trabajar con Bagging. \n",
    "#\n",
    "\n",
    "from sklearn.ensemble import BaggingRegressor\n",
    "\n",
    "br = BaggingRegressor( n_estimators = 250 )\n",
    "\n",
    "# Aplicamos el método en X,y\n",
    "br.fit(X_train,y_train) \n",
    "\n",
    "B_prediccion = br.predict(X_test)\n",
    "\n",
    "print(\"Primeras 4 predicciones: \", B_prediccion[:4] )\n",
    "\n",
    "\n"
   ]
  },
  {
   "cell_type": "code",
   "execution_count": 9,
   "id": "remarkable-arthritis",
   "metadata": {},
   "outputs": [
    {
     "data": {
      "text/plain": [
       "0.3042225523815858"
      ]
     },
     "execution_count": 9,
     "metadata": {},
     "output_type": "execute_result"
    }
   ],
   "source": [
    "# MSE en bagging... \n",
    "\n",
    "error_br = mean_squared_error( y_test, B_prediccion )\n",
    "error_br \n"
   ]
  },
  {
   "cell_type": "markdown",
   "id": "major-routine",
   "metadata": {},
   "source": [
    " \n",
    " "
   ]
  },
  {
   "cell_type": "markdown",
   "id": "capital-dinner",
   "metadata": {},
   "source": [
    " "
   ]
  },
  {
   "cell_type": "markdown",
   "id": "widespread-mount",
   "metadata": {},
   "source": [
    "### OOB, Out-of-bag. "
   ]
  },
  {
   "cell_type": "code",
   "execution_count": 11,
   "id": "incorporate-thanksgiving",
   "metadata": {},
   "outputs": [
    {
     "name": "stdout",
     "output_type": "stream",
     "text": [
      "Primeras 4 predicciones:  [5.93770861 5.65363327 6.91106755 6.51741853]\n"
     ]
    }
   ],
   "source": [
    "oobr = BaggingRegressor( n_estimators = 250, oob_score = True )\n",
    "\n",
    "# Aplicamos el método en X,y\n",
    "oobr.fit(X_train,y_train) \n",
    "\n",
    "OOB_prediccion = oobr.predict(X_test)\n",
    "\n",
    "print(\"Primeras 4 predicciones: \", OOB_prediccion[:4] )\n"
   ]
  },
  {
   "cell_type": "code",
   "execution_count": 12,
   "id": "lesser-columbia",
   "metadata": {},
   "outputs": [
    {
     "data": {
      "text/plain": [
       "0.3013940735698518"
      ]
     },
     "execution_count": 12,
     "metadata": {},
     "output_type": "execute_result"
    }
   ],
   "source": [
    "# Error en OOB\n",
    "\n",
    "error_oob = mean_squared_error(y_test, OOB_prediccion)\n",
    "error_oob"
   ]
  },
  {
   "cell_type": "markdown",
   "id": "essential-seafood",
   "metadata": {},
   "source": [
    " "
   ]
  },
  {
   "cell_type": "markdown",
   "id": "capable-separation",
   "metadata": {},
   "source": [
    "<h2 style=\"padding:2%;margin-left:2%; font-size:20px\"> \n",
    "    <b style=\"color:green\">+</b> Bosque aleatorio (Random forest).\n",
    "</h2>"
   ]
  },
  {
   "cell_type": "code",
   "execution_count": 13,
   "id": "insured-breach",
   "metadata": {},
   "outputs": [],
   "source": [
    "# Import de paquetes para trabajar con Random forest. \n",
    "\n",
    "from sklearn.ensemble import RandomForestRegressor   # Caso para regresión ...\n"
   ]
  },
  {
   "cell_type": "code",
   "execution_count": 14,
   "id": "southern-pearl",
   "metadata": {},
   "outputs": [
    {
     "data": {
      "text/plain": [
       "array([5.90410324, 5.92331564, 6.68204231, 6.01403343])"
      ]
     },
     "execution_count": 14,
     "metadata": {},
     "output_type": "execute_result"
    }
   ],
   "source": [
    "rf = RandomForestRegressor( n_estimators = 250 ,max_depth = 2 )\n",
    "\n",
    "rf.fit(X_train,y_train)\n",
    "\n",
    "rf_prediccion = rf.predict(X_test)\n",
    "\n",
    "rf_prediccion[:4]"
   ]
  },
  {
   "cell_type": "code",
   "execution_count": 15,
   "id": "interim-pontiac",
   "metadata": {},
   "outputs": [
    {
     "data": {
      "text/plain": [
       "0.26382497614484274"
      ]
     },
     "execution_count": 15,
     "metadata": {},
     "output_type": "execute_result"
    }
   ],
   "source": [
    "# Error en random forest\n",
    "\n",
    "error_rf = mean_squared_error( y, rf.predict(X) )\n",
    "error_rf"
   ]
  },
  {
   "cell_type": "markdown",
   "id": "racial-boulder",
   "metadata": {},
   "source": [
    " "
   ]
  },
  {
   "cell_type": "markdown",
   "id": "retired-camel",
   "metadata": {},
   "source": [
    "### Variable importance "
   ]
  },
  {
   "cell_type": "code",
   "execution_count": 28,
   "id": "controversial-driver",
   "metadata": {},
   "outputs": [
    {
     "data": {
      "image/png": "[encoded data removed]",
      "text/plain": [
       "<Figure size 432x288 with 1 Axes>"
      ]
     },
     "metadata": {
      "needs_background": "light"
     },
     "output_type": "display_data"
    }
   ],
   "source": [
    "# Var importance \n",
    "\n",
    "vImportance  = rf.feature_importances_\n",
    "v_importance = pd.Series( vImportance, index=[\"Hits\",\"Años\"])\n",
    "\n",
    "fig, ax = plt.subplots()\n",
    "v_importance.plot.bar()\n",
    "\n",
    "ax.set_title(\"Variable importance en Hitters.csv\")\n",
    "ax.set_ylabel(\"Decrecimieto de la media de RSS\")\n",
    "\n",
    "fig.tight_layout()\n",
    "\n"
   ]
  },
  {
   "cell_type": "code",
   "execution_count": 16,
   "id": "magnetic-ladder",
   "metadata": {},
   "outputs": [
    {
     "data": {
      "text/plain": [
       "0.12955159350628997"
      ]
     },
     "execution_count": 16,
     "metadata": {},
     "output_type": "execute_result"
    }
   ],
   "source": [
    "# Random forest con OOB\n",
    "rf_oob = RandomForestRegressor( n_estimators = 250 , oob_score = True )\n",
    "rf_oob.fit(X_train,y_train)\n",
    "rfoob_prediccion = rf_oob.predict(X_test)\n",
    "\n",
    "# Error en random forest con OOB\n",
    "error_rfoob = mean_squared_error(y, rf_oob.predict(X))\n",
    "error_rfoob\n"
   ]
  },
  {
   "cell_type": "code",
   "execution_count": 31,
   "id": "chemical-imaging",
   "metadata": {},
   "outputs": [
    {
     "data": {
      "text/plain": [
       "[0.3026418289760601,\n",
       " 0.3042225523815858,\n",
       " 0.26382497614484274,\n",
       " 0.3013940735698518,\n",
       " 0.12955159350628997]"
      ]
     },
     "execution_count": 31,
     "metadata": {},
     "output_type": "execute_result"
    }
   ],
   "source": [
    "# Errores juntos. \n",
    "\n",
    "# [Error con árbol de regresión, error con Bagging, error con Random forest, error OOB, error Random forest OOB.]\n",
    "x_err = [\"error_ar\", \"error_br\", \"error_rf\", \"error_oob\", \"error_rfoob\"]\n",
    "y_err = [error_ar, error_br, error_rf, error_oob, error_rfoob] \n",
    "\n",
    "y_err\n",
    "\n",
    "\n"
   ]
  },
  {
   "cell_type": "code",
   "execution_count": 39,
   "id": "respected-victorian",
   "metadata": {},
   "outputs": [
    {
     "name": "stderr",
     "output_type": "stream",
     "text": [
      "<ipython-input-39-70d0c32073c6>:7: MatplotlibDeprecationWarning: Case-insensitive properties were deprecated in 3.3 and support will be removed two minor releases later\n",
      "  plt.title(\" Errores  \", fontSize=17, Color=\"red\")\n",
      "<ipython-input-39-70d0c32073c6>:8: MatplotlibDeprecationWarning: Case-insensitive properties were deprecated in 3.3 and support will be removed two minor releases later\n",
      "  plt.xlabel(\"Errores en cada método\", fontSize=13)\n",
      "<ipython-input-39-70d0c32073c6>:9: MatplotlibDeprecationWarning: Case-insensitive properties were deprecated in 3.3 and support will be removed two minor releases later\n",
      "  plt.ylabel(\" MSE \", fontSize=13)\n"
     ]
    },
    {
     "data": {
      "image/png": "[encoded data removed]",
      "text/plain": [
       "<Figure size 432x288 with 1 Axes>"
      ]
     },
     "metadata": {
      "needs_background": "light"
     },
     "output_type": "display_data"
    }
   ],
   "source": [
    "#\n",
    "# Para tener una idea, un plot básico\n",
    "#\n",
    "\n",
    "\n",
    "plt.bar(x_err,y_err)\n",
    "plt.title(\" Errores  \", fontSize=17, Color=\"red\")\n",
    "plt.xlabel(\"Errores en cada método\", fontSize=13)\n",
    "plt.ylabel(\" MSE \", fontSize=13)\n",
    "plt.show()\n",
    "\n",
    " "
   ]
  },
  {
   "cell_type": "code",
   "execution_count": null,
   "id": "interstate-mistake",
   "metadata": {},
   "outputs": [],
   "source": []
  }
 ],
 "metadata": {
  "kernelspec": {
   "display_name": "Python 3",
   "language": "python",
   "name": "python3"
  },
  "language_info": {
   "codemirror_mode": {
    "name": "ipython",
    "version": 3
   },
   "file_extension": ".py",
   "mimetype": "text/x-python",
   "name": "python",
   "nbconvert_exporter": "python",
   "pygments_lexer": "ipython3",
   "version": "3.8.8"
  }
 },
 "nbformat": 4,
 "nbformat_minor": 5
}
